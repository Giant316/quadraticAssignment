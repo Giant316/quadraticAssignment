{
 "cells": [
  {
   "cell_type": "markdown",
   "metadata": {},
   "source": [
    "## Quadratic Assignment Problem (Symmetic)"
   ]
  },
  {
   "cell_type": "markdown",
   "metadata": {},
   "source": [
    "## 1. Design and implement a greedy heuristic to create a solution to the QAP"
   ]
  },
  {
   "cell_type": "code",
   "execution_count": 3,
   "metadata": {},
   "outputs": [
    {
     "name": "stdout",
     "output_type": "stream",
     "text": [
      "Random Heuristic solution: [3, 4, 2, 1, 0]\n",
      "Random Heuristic solution's cost: 56698\n"
     ]
    }
   ],
   "source": [
    "import numpy as np\n",
    "import random as rd\n",
    "\n",
    "flow = np.array([\n",
    "   [0, 9, 7, 1, 10],\n",
    "   [9, 0, 10, 3, 7],\n",
    "   [7, 10, 0, 4, 10],\n",
    "   [1, 3, 4, 0, 4],\n",
    "   [10, 7, 10, 4, 0]\n",
    "])\n",
    "\n",
    "dist = np.array([\n",
    "   [0, 147, 511, 266, 405],\n",
    "   [147, 0, 429, 285, 547],\n",
    "   [511, 429, 0, 353, 772],\n",
    "   [266, 285, 353, 0, 425],\n",
    "   [405, 547, 772, 425, 0]\n",
    "])\n",
    "\n",
    "# cost function = flow*distance matrix \n",
    "#(sum only the upper triangle)\n",
    "def cost(flow):\n",
    "    global dist\n",
    "    cost = flow*dist\n",
    "    return np.sum(cost[np.triu_indices(5,1)])*2\n",
    "\n",
    "# Random Approach: \n",
    "# Generate random solution with the random function \n",
    "def randHeu (mat):\n",
    "    ndim = mat.shape[0]\n",
    "    rand_sol = rd.sample(range(ndim), ndim)\n",
    "    return mat[np.ix_(rand_sol,rand_sol)], rand_sol\n",
    "\n",
    "rand = randHeu(flow)\n",
    "print(\"Random Heuristic solution: \" + str(rand[1]))\n",
    "print(\"Random Heuristic solution's cost: \" + str(cost(rand[0])))"
   ]
  },
  {
   "cell_type": "markdown",
   "metadata": {},
   "source": [
    "This random solution is generated with built-in function that generates random sequence "
   ]
  },
  {
   "cell_type": "markdown",
   "metadata": {},
   "source": [
    "## 2. Design and implement a random heuristic to create a solution to the QAP."
   ]
  },
  {
   "cell_type": "code",
   "execution_count": 4,
   "metadata": {},
   "outputs": [
    {
     "name": "stdout",
     "output_type": "stream",
     "text": [
      "Greddy Heuristic solution: [2, 1, 0, 4, 3]\n",
      "Greedy Heuristic solution's cost: 45652\n"
     ]
    }
   ],
   "source": [
    "# Greedy Approach: \n",
    "# Find the respective largest range of the rows in the two matrix \n",
    "# match the smallest value with the largest value, second smallest to second largest\n",
    "# and so on..\n",
    "def idxMax(mat):\n",
    "    maxrow = mat.max(axis=0) #find max value in each rows\n",
    "    np.fill_diagonal(mat, 999)\n",
    "    minrow = mat.min(axis=0) #find min value in each rows \n",
    "    np.fill_diagonal(mat, 0)\n",
    "    max_range = maxrow - minrow # find the largest range \n",
    "    return np.where(max_range == np.amax(max_range))[0][0] #get index of the largest range\n",
    "    \n",
    "def idxSort(A, B):\n",
    "    list_A = A[idxMax(A),0:] # get the row with largest range \n",
    "    list_B = B[idxMax(B),0:]\n",
    "    \n",
    "    zero_idx = np.where(list_A == 0)[0][0] #store index of zero in matrix A\n",
    "    list_A = np.trim_zeros(list_A) #remove zeros \n",
    "    list_B = np.trim_zeros(list_B)\n",
    "    list_B = np.sort(list_B)[::-1] #sort list B in desc order\n",
    "    sorted_list = [list_B for _,list_B in sorted(zip(list_A,list_B))] #sort min in A match max in B\n",
    "    sorted_list = np.insert(sorted_list, zero_idx, 0)\n",
    "\n",
    "    res = []\n",
    "    for i in sorted_list:\n",
    "        b = B[idxMax(B),0:]\n",
    "        res.append(np.where(b == i)[0][0]) # get the indices of sorted matrix \n",
    "    return res  \n",
    "\n",
    "def greedHeu (matA, matB):\n",
    "    global idx\n",
    "    idx = idxSort(matA, matB)\n",
    "    return matA[np.ix_(idx,idx)], idx\n",
    "\n",
    "greedy = greedHeu(flow, dist)\n",
    "print(\"Greddy Heuristic solution: \" + str(greedy[1]))\n",
    "print(\"Greedy Heuristic solution's cost: \" + str(cost(greedy[0])))"
   ]
  },
  {
   "cell_type": "markdown",
   "metadata": {},
   "source": [
    "The greedy approach: select the respect row with largest range from the two matrix, match the position of the smallest value to the position of the largest value, second smallest to second largest and so on "
   ]
  },
  {
   "cell_type": "markdown",
   "metadata": {},
   "source": [
    "## 3. Implementing a simulated annealing algorithm to solve the QAP. Design a neighborhood to generate a solution s′ given a solution s."
   ]
  },
  {
   "cell_type": "code",
   "execution_count": 5,
   "metadata": {},
   "outputs": [
    {
     "name": "stdout",
     "output_type": "stream",
     "text": [
      "Initial Simulated Annealing Solution: [2, 4, 0, 1, 3]\n",
      "Initial Simulated Annealing Cost: 46048\n",
      "Final Simulated Annealing Solution: [2 1 0 4 3]\n",
      "Final Simulated Annealing Cost: 45652\n"
     ]
    },
    {
     "data": {
      "text/plain": [
       "45652"
      ]
     },
     "execution_count": 5,
     "metadata": {},
     "output_type": "execute_result"
    }
   ],
   "source": [
    "sol_len = 5\n",
    "N = 10 # size of neighboorhood matrix \n",
    "neighbors = np.zeros((N, sol_len +2), dtype=int)\n",
    "# 2 Opt Neighborhood Approach: \n",
    "# swap the first two elements in the given solution, \n",
    "# move one spot to the right in the new solution list \n",
    "# and swap these two values in given solution to \n",
    "# form another new solution, make another one move to\n",
    "# the right and perform same operation until the \n",
    "# end of the index in the solution list is reached \n",
    "# all of these new solutions (neighbors) form the \n",
    "# neighborhood matrix \n",
    "def swap_move(sol_n):\n",
    "    global idx, neighbors\n",
    "    #print idx\n",
    "    for i in range (sol_len):\n",
    "        j=i+1\n",
    "        for j in range(sol_len):\n",
    "            if  i<j:\n",
    "                idx=idx+1 \n",
    "                sol_n[j], sol_n[i] = sol_n[i], sol_n[j] #swap two elements \n",
    "                neighbors[idx, :-2] = sol_n\n",
    "                neighbors[idx, -2:] = [sol_n[i], sol_n[j]]\n",
    "                sol_n[i], sol_n[j] = sol_n[j], sol_n[i]\n",
    "\n",
    "def return_neighbor(curnt_sol):\n",
    "    global neighbors, idx\n",
    "    idx = -1\n",
    "    swap_move(curnt_sol)  # make a move to 2-opt neighboorhood \n",
    "    cost = np.zeros((len(neighbors)))  # holds the cost of the neighbors\n",
    "    for index in range(len(neighbors)):\n",
    "        cost[index] = solcost(neighbors[index, :-2])  # evaluate the cost of the candidate neighbors\n",
    "    rank = np.argsort(cost)  # sorted index based on cost\n",
    "    neighbors = neighbors[rank]\n",
    "    k = []\n",
    "    for n in range(N):\n",
    "        k = rd.randint(0, N-1)\n",
    "    return(neighbors[k,:-2]) # randomly select one of the neighbors\n",
    "\n",
    "def solcost(sol):\n",
    "    global flow, dist\n",
    "    cost = flow*dist[np.ix_(sol,sol)]\n",
    "    #return np.sum(cost[np.triu_indices(5,1)])*2\n",
    "    return np.sum(cost)\n",
    "\n",
    "#Acceptance Probability function\n",
    "def accProb(delta, T):   \n",
    "    return np.exp(-delta/T) > rd.random()\n",
    "\n",
    "def simAnneal(flow, dist):\n",
    "    curr_sol = rd.sample(range(sol_len), sol_len)\n",
    "    #print curr_sol\n",
    "    #curr_sol = [2,1,0,4,3]\n",
    "    curr_cost = cost(flow[np.ix_(curr_sol, curr_sol)])\n",
    "    final_sol = curr_sol\n",
    "    final_cost = cost(flow[np.ix_(final_sol, final_sol)])\n",
    "    print(\"Initial Simulated Annealing Solution: \" + str(final_sol))\n",
    "    print(\"Initial Simulated Annealing Cost: \" + str(final_cost))\n",
    "    T = 10000\n",
    "    T_min = 0.001\n",
    "    alpha = 0.8 \n",
    "    while T > T_min: \n",
    "        new_sol = return_neighbor(curr_sol)\n",
    "        new_cost = cost(flow[np.ix_(new_sol, new_sol)])\n",
    "        if new_cost < curr_cost | accProb(new_cost - curr_cost, T):\n",
    "            curr_sol = new_sol\n",
    "            curr_cost = cost(flow[np.ix_(curr_sol, curr_sol)])\n",
    "        if curr_cost < final_cost:\n",
    "            final_sol = curr_sol\n",
    "            final_cost = cost(flow[np.ix_(final_sol, final_sol)])\n",
    "        T = T*alpha\n",
    "    print(\"Final Simulated Annealing Solution: \" + str(final_sol))\n",
    "    print(\"Final Simulated Annealing Cost: \" + str(final_cost))\n",
    "    return final_cost\n",
    "\n",
    "simAnneal(flow, dist)"
   ]
  },
  {
   "cell_type": "markdown",
   "metadata": {},
   "source": [
    "Algorithm implemented: use two-opt swapping neighborhood design; form collection of possible solutions as neighborhood, randomly change part of the solution as pertubation strategy "
   ]
  },
  {
   "cell_type": "markdown",
   "metadata": {},
   "source": [
    "## 4. implementing an ant colony algorithm to solve the QAP"
   ]
  },
  {
   "cell_type": "code",
   "execution_count": 6,
   "metadata": {},
   "outputs": [
    {
     "name": "stdout",
     "output_type": "stream",
     "text": [
      "Best ACO solution: [2, 1, 0, 4, 3]\n",
      "Cost of ACO solution: 45652\n"
     ]
    }
   ],
   "source": [
    "init = 10\n",
    "m = np.empty_like(dist)\n",
    "m.fill(init)\n",
    "ndim = m.shape[0]\n",
    "\n",
    "def solution(m):\n",
    "    idx_arr = []\n",
    "    idx_cho = []\n",
    "    for i in range(ndim):\n",
    "        idx_cho.append(i)\n",
    "    #idx_cho = [0,1,2,3,4]\n",
    "    #print idx_cho\n",
    "    for i in range(ndim):\n",
    "        m = m.astype(np.float64) # change matrix data type\n",
    "        phero = m[:,i] # pheromone for next factory\n",
    "        phero = np.delete(phero, idx_arr) #remove chosen pheromone \n",
    "        prob = phero/sum(phero) #calculate probability based on pheromone concentration\n",
    "        prob /= prob.sum() #normalize probability\n",
    "        curr_idx = np.random.choice(idx_cho, 1, p=prob)[0] #choose a loc based on probability\n",
    "        idx_cho = np.delete(idx_cho, np.argwhere(idx_cho == curr_idx)) #remove selected location\n",
    "        idx_arr.append(curr_idx) #save selected location\n",
    "    return(idx_arr)\n",
    "\n",
    "\n",
    "def new_phero(index, sol):\n",
    "    global init\n",
    "    rho = 0.8 \n",
    "    sol_cost = solcost(sol)\n",
    "    upd = (1-rho)*init + rho*sol_cost\n",
    "    xupd = (1-rho)*init\n",
    "    x = np.empty(shape=ndim)\n",
    "    x.fill(xupd)\n",
    "    x[index] = upd\n",
    "    return x\n",
    "\n",
    "def upd_phero_matrix(m):\n",
    "    sol = solution(m)\n",
    "    for i in range(ndim):\n",
    "        m[:,i] = new_phero(sol[i], sol)\n",
    "    m[m==1] = 2 \n",
    "    return m, sol\n",
    "\n",
    "def ant_upd(n, mat):\n",
    "    m = np.empty_like(mat)\n",
    "    m = m.astype(np.float64)\n",
    "    for i in range(n-1):\n",
    "        m = m + upd_phero_matrix(mat)[0] \n",
    "        #print m\n",
    "    m[m==2*(n)] = 2\n",
    "    sol = upd_phero_matrix(mat)[1]\n",
    "    return m, sol\n",
    "\n",
    "def aco(n_iter, n_ant):\n",
    "    tau = np.empty_like(dist)\n",
    "    tau.fill(init) #initialize pheromone concentration \n",
    "    curr_sol = ant_upd(n_ant, tau)[1] #initialization\n",
    "    best_sol = curr_sol\n",
    "    while n_iter > 0: \n",
    "        if solcost(curr_sol) < solcost(best_sol):\n",
    "             best_sol = curr_sol \n",
    "        tau = ant_upd(n_ant, tau)[0]\n",
    "        curr_sol = ant_upd(n_ant, tau)[1]\n",
    "        curr_sol = run_tabu(curr_sol) # local search with tabu algorithm \n",
    "        n_iter -= 1\n",
    "    print(\"Best ACO solution: \" + str(best_sol))\n",
    "    return(best_sol)\n",
    "\n",
    "lst_len = 17\n",
    "num_iter = 200\n",
    "sol_len = dist.shape[0]\n",
    "def n_size (len):\n",
    "    n = 0\n",
    "    for i in range(len):\n",
    "        n = i + n\n",
    "    return n\n",
    "N = n_size(sol_len)\n",
    "neighbors = np.zeros((N, sol_len +2), dtype=int)\n",
    "def not_in_tabu (solution, tabu):\n",
    "    not_found = False\n",
    "    if not solution.tolist() in tabu:\n",
    "        solution[0], solution[1] = solution[1], solution[0]\n",
    "        if not solution.tolist() in tabu:\n",
    "            not_found = True\n",
    "    return not_found\n",
    "\n",
    "def run_tabu(curnt_sol):\n",
    "    global neighbors, num_iter, idx\n",
    "    best_soln = curnt_sol\n",
    "    #print \"tabu1\",solcost(best_soln)\n",
    "    Tabu = []\n",
    "    frequency = {}\n",
    "    while num_iter > 0:\n",
    "        idx = -1\n",
    "        swap_move(curnt_sol)  # move to neighbors (2-opt neighborhood)\n",
    "        cost = np.zeros((len(neighbors)))  # holds the cost of the neighbors\n",
    "        for index in range(len(neighbors)):\n",
    "            cost[index] = solcost(neighbors[index, :-2])  # evaluate the cost of the candidate neighbors\n",
    "        rank = np.argsort(cost)  # sorted index based on cost\n",
    "        neighbors = neighbors[rank]\n",
    "\n",
    "        for j in range(N):\n",
    "            not_tabu = not_in_tabu(neighbors[j, -2:], Tabu)\n",
    "            if (not_tabu ):\n",
    "                curnt_sol = neighbors[j, :-2].tolist()\n",
    "                Tabu.append(neighbors[j, -2:].tolist())\n",
    "                if len(Tabu) > lst_len-1:\n",
    "                    Tabu = Tabu[1:]\n",
    "                    \n",
    "                #frequency based\n",
    "                if not tuple(curnt_sol) in frequency.keys():\n",
    "                    frequency[tuple(curnt_sol)] = 1 # set key->penality -> to One\n",
    "                    if solcost(curnt_sol) <  solcost(best_soln):\n",
    "                        best_soln = curnt_sol\n",
    "                    #print \"tabu2\",solcost(best_soln)\n",
    "                else:\n",
    "                    cur_cost= solcost(curnt_sol) + frequency[tuple(curnt_sol)] # penalize by frequency\n",
    "                    frequency[tuple(curnt_sol)] += 1   # increament the frequency for the current visit\n",
    "                    if cur_cost <  solcost(best_soln):\n",
    "                        best_soln = curnt_sol   \n",
    "                    #print \"tabu2\",solcost(best_soln)\n",
    "                break\n",
    "                \n",
    "            #Aspiration\n",
    "            elif solcost(neighbors[j, :-2]) <  solcost(best_soln):\n",
    "                curnt_sol = neighbors[j, :-2].tolist()\n",
    "                Tabu.insert(0, Tabu.pop(Tabu.index(neighbors[j, -2:].tolist())))\n",
    "                #print(neighbors())\n",
    "                if len(Tabu) > lst_len - 1:\n",
    "                    Tabu = Tabu[1:]\n",
    "                    # frequency based\n",
    "                if not tuple(curnt_sol) in frequency.keys():\n",
    "                    frequency[tuple(curnt_sol)] = 1  # set key->penality -> to One\n",
    "                    best_soln = curnt_sol\n",
    "                else:\n",
    "                    cur_cost= solcost(curnt_sol) + frequency[tuple(curnt_sol)] # penalize by frequency\n",
    "                    frequency[tuple(curnt_sol)] += 1   # increament the frequency for the current visit\n",
    "                    if cur_cost <  solcost(best_soln):\n",
    "                        best_soln = curnt_sol\n",
    "                    #print \"tabu3\",solcost(best_soln)\n",
    "            #print \"tabu4\",solcost(best_soln)\n",
    "        num_iter -= 1\n",
    "    return best_soln \n",
    "\n",
    "print(\"Cost of ACO solution: \" + str(solcost(aco (20,2))))"
   ]
  },
  {
   "cell_type": "markdown",
   "metadata": {},
   "source": [
    "Implemented the ACO and construct the solution from the multiple ants pheromone concentration matrix with the Tabu local search."
   ]
  },
  {
   "cell_type": "markdown",
   "metadata": {},
   "source": [
    "### Choosing the parameter: number of ants"
   ]
  },
  {
   "cell_type": "code",
   "execution_count": 9,
   "metadata": {},
   "outputs": [
    {
     "name": "stdout",
     "output_type": "stream",
     "text": [
      "Best ACO solution: [2, 3, 0, 4, 1]\n",
      "Best ACO solution: [1, 2, 3, 4, 0]\n",
      "Best ACO solution: [2, 3, 0, 4, 1]\n",
      "Best ACO solution: [2, 3, 0, 4, 1]\n",
      "Best ACO solution: [2, 0, 3, 4, 1]\n",
      "Best ACO solution: [4, 3, 0, 2, 1]\n",
      "Best ACO solution: [1, 0, 2, 4, 3]\n",
      "Best ACO solution: [1, 0, 3, 4, 2]\n",
      "Best ACO solution: [2, 0, 3, 4, 1]\n",
      "Best ACO solution: [4, 0, 1, 2, 3]\n",
      "Best ACO solution: [1, 3, 2, 4, 0]\n",
      "Best ACO solution: [2, 1, 3, 4, 0]\n",
      "Best ACO solution: [2, 0, 1, 4, 3]\n",
      "Best ACO solution: [1, 0, 3, 4, 2]\n",
      "Best ACO solution: [4, 3, 1, 2, 0]\n",
      "Best ACO solution: [4, 3, 1, 2, 0]\n",
      "Best ACO solution: [4, 1, 0, 2, 3]\n",
      "Best ACO solution: [1, 0, 3, 4, 2]\n",
      "Best ACO solution: [1, 3, 2, 4, 0]\n",
      "Best ACO solution: [4, 1, 0, 2, 3]\n",
      "Best ACO solution: [4, 0, 1, 2, 3]\n",
      "Best ACO solution: [0, 2, 1, 4, 3]\n",
      "Best ACO solution: [2, 3, 1, 4, 0]\n",
      "Best ACO solution: [4, 1, 0, 2, 3]\n",
      "Best ACO solution: [4, 1, 3, 2, 0]\n",
      "Best ACO solution: [0, 4, 1, 2, 3]\n",
      "Best ACO solution: [4, 0, 1, 2, 3]\n",
      "Best ACO solution: [2, 1, 0, 4, 3]\n",
      "Best ACO solution: [3, 2, 0, 4, 1]\n",
      "Best ACO solution: [2, 1, 0, 4, 3]\n",
      "Best ACO solution: [2, 1, 0, 4, 3]\n",
      "Best ACO solution: [4, 1, 3, 2, 0]\n",
      "Best ACO solution: [4, 3, 1, 2, 0]\n",
      "Best ACO solution: [2, 0, 1, 4, 3]\n",
      "Best ACO solution: [3, 4, 1, 2, 0]\n",
      "Best ACO solution: [3, 1, 0, 4, 2]\n",
      "Best ACO solution: [2, 1, 0, 4, 3]\n",
      "Best ACO solution: [1, 2, 3, 4, 0]\n",
      "Best ACO solution: [1, 2, 0, 4, 3]\n",
      "Best ACO solution: [1, 2, 3, 4, 0]\n",
      "Best ACO solution: [4, 0, 1, 2, 3]\n",
      "Best ACO solution: [4, 0, 3, 2, 1]\n",
      "Best ACO solution: [2, 1, 0, 4, 3]\n",
      "Best ACO solution: [4, 0, 1, 2, 3]\n",
      "Best ACO solution: [1, 0, 2, 4, 3]\n",
      "Best ACO solution: [1, 2, 3, 4, 0]\n",
      "Best ACO solution: [4, 3, 1, 2, 0]\n",
      "Best ACO solution: [4, 3, 0, 2, 1]\n",
      "Best ACO solution: [2, 1, 0, 4, 3]\n",
      "Best ACO solution: [2, 1, 3, 4, 0]\n"
     ]
    },
    {
     "data": {
      "image/png": "[encoded data removed]",
      "text/plain": [
       "<Figure size 432x288 with 1 Axes>"
      ]
     },
     "metadata": {
      "needs_background": "light"
     },
     "output_type": "display_data"
    },
    {
     "data": {
      "image/png": "[encoded data removed]",
      "text/plain": [
       "<Figure size 432x288 with 1 Axes>"
      ]
     },
     "metadata": {
      "needs_background": "light"
     },
     "output_type": "display_data"
    }
   ],
   "source": [
    "import time\n",
    "n_iter = 10\n",
    "n_ant = 50\n",
    "list_cost = []\n",
    "list_time = []\n",
    "for i in range(n_ant):\n",
    "    start = time.time() #collect start time\n",
    "    num_iter = 1 #number of iteration for Tabu search\n",
    "    neighbors = np.zeros((N, sol_len +2), dtype=int) \n",
    "    solc = solcost(aco(n_iter,i))\n",
    "    end = time.time() #collect end time\n",
    "    list_cost.append(solc)\n",
    "    list_time.append(end - start)\n",
    "list_cost, list_time\n",
    "from matplotlib import pyplot as plt\n",
    "#plot cost\n",
    "plt.plot(list_cost)\n",
    "plt.xlabel('n_ant')\n",
    "plt.ylabel('cost')\n",
    "plt.title('Number of ant VS Distance cost with fix n_iter = 10 and num_iter in tabu search = 1')\n",
    "plt.show()\n",
    "\n",
    "#plot time execution\n",
    "plt.plot(list_time)\n",
    "plt.xlabel('n_ant')\n",
    "plt.ylabel('time')\n",
    "plt.title('Number of ant VS Time execution with fix n_iter = 10 and num_iter in tabu search = 1')\n",
    "plt.show()"
   ]
  },
  {
   "cell_type": "markdown",
   "metadata": {},
   "source": [
    "### Choosing the parameters: number of iterations"
   ]
  },
  {
   "cell_type": "code",
   "execution_count": 10,
   "metadata": {},
   "outputs": [
    {
     "name": "stdout",
     "output_type": "stream",
     "text": [
      "Best ACO solution: [4, 3, 2, 0, 1]\n",
      "Best ACO solution: [0, 2, 4, 1, 3]\n",
      "Best ACO solution: [3, 0, 2, 4, 1]\n",
      "Best ACO solution: [4, 0, 1, 2, 3]\n",
      "Best ACO solution: [4, 1, 3, 2, 0]\n",
      "Best ACO solution: [2, 0, 1, 4, 3]\n",
      "Best ACO solution: [2, 3, 1, 4, 0]\n",
      "Best ACO solution: [0, 4, 3, 2, 1]\n",
      "Best ACO solution: [2, 1, 3, 4, 0]\n",
      "Best ACO solution: [2, 3, 1, 4, 0]\n",
      "Best ACO solution: [1, 2, 3, 4, 0]\n",
      "Best ACO solution: [2, 3, 1, 4, 0]\n",
      "Best ACO solution: [0, 3, 2, 4, 1]\n",
      "Best ACO solution: [4, 0, 1, 2, 3]\n",
      "Best ACO solution: [4, 0, 1, 2, 3]\n",
      "Best ACO solution: [1, 2, 0, 4, 3]\n",
      "Best ACO solution: [4, 3, 0, 2, 1]\n",
      "Best ACO solution: [1, 0, 3, 4, 2]\n",
      "Best ACO solution: [2, 0, 1, 4, 3]\n",
      "Best ACO solution: [3, 0, 1, 4, 2]\n",
      "Best ACO solution: [2, 3, 0, 4, 1]\n",
      "Best ACO solution: [1, 0, 3, 4, 2]\n",
      "Best ACO solution: [2, 3, 0, 4, 1]\n",
      "Best ACO solution: [1, 2, 3, 4, 0]\n",
      "Best ACO solution: [1, 0, 2, 4, 3]\n",
      "Best ACO solution: [2, 1, 0, 4, 3]\n",
      "Best ACO solution: [2, 3, 1, 4, 0]\n",
      "Best ACO solution: [2, 3, 0, 4, 1]\n",
      "Best ACO solution: [0, 1, 2, 4, 3]\n",
      "Best ACO solution: [1, 2, 3, 4, 0]\n",
      "Best ACO solution: [0, 3, 4, 2, 1]\n",
      "Best ACO solution: [2, 1, 0, 4, 3]\n",
      "Best ACO solution: [2, 3, 0, 4, 1]\n",
      "Best ACO solution: [0, 1, 3, 4, 2]\n",
      "Best ACO solution: [0, 1, 2, 4, 3]\n",
      "Best ACO solution: [2, 0, 1, 4, 3]\n",
      "Best ACO solution: [2, 1, 0, 4, 3]\n",
      "Best ACO solution: [1, 0, 2, 4, 3]\n",
      "Best ACO solution: [1, 0, 3, 4, 2]\n",
      "Best ACO solution: [2, 3, 1, 4, 0]\n",
      "Best ACO solution: [2, 3, 0, 4, 1]\n",
      "Best ACO solution: [2, 0, 3, 4, 1]\n",
      "Best ACO solution: [4, 0, 1, 2, 3]\n",
      "Best ACO solution: [2, 3, 0, 4, 1]\n",
      "Best ACO solution: [2, 3, 0, 4, 1]\n",
      "Best ACO solution: [1, 0, 2, 4, 3]\n",
      "Best ACO solution: [2, 3, 0, 4, 1]\n",
      "Best ACO solution: [4, 3, 0, 2, 1]\n",
      "Best ACO solution: [2, 1, 3, 4, 0]\n",
      "Best ACO solution: [4, 0, 1, 2, 3]\n"
     ]
    },
    {
     "data": {
      "image/png": "[encoded data removed]",
      "text/plain": [
       "<Figure size 432x288 with 1 Axes>"
      ]
     },
     "metadata": {
      "needs_background": "light"
     },
     "output_type": "display_data"
    },
    {
     "data": {
      "image/png": "[encoded data removed]",
      "text/plain": [
       "<Figure size 432x288 with 1 Axes>"
      ]
     },
     "metadata": {
      "needs_background": "light"
     },
     "output_type": "display_data"
    }
   ],
   "source": [
    "n_iter = 50\n",
    "n_ant = 10\n",
    "list_cost = []\n",
    "list_time = []\n",
    "for i in range(n_iter):\n",
    "    start = time.time() #collect start time\n",
    "    num_iter = 1 #number of iteration for Tabu search\n",
    "    neighbors = np.zeros((N, sol_len +2), dtype=int) #set iteration matrix for Tabu search\n",
    "    solc = solcost(aco(i,n_ant))\n",
    "    end = time.time() #collect end time\n",
    "    list_cost.append(solc)\n",
    "    list_time.append(end - start)\n",
    "list_cost, list_time\n",
    "#from matplotlib import pyplot as plt\n",
    "#plot cost\n",
    "plt.plot(list_cost)\n",
    "plt.xlabel('n_iter')\n",
    "plt.ylabel('cost')\n",
    "plt.title('Number of iteration VS Distance cost with fix n_ant = 10 and num_iter in tabu search = 1')\n",
    "plt.show()\n",
    "\n",
    "#plot time execution\n",
    "plt.plot(list_time)\n",
    "plt.xlabel('n_iter')\n",
    "plt.ylabel('time (s)')\n",
    "plt.title('Number of iteration VS Time execution with fix n_ant = 10 and num_iter in tabu search = 1')\n",
    "plt.show()"
   ]
  },
  {
   "cell_type": "markdown",
   "metadata": {},
   "source": [
    "### Summary from plots\n",
    "\n",
    "- Distance cost dose not improve when increasing number of ants while fix other parameters.\n",
    "- After a few iterations of increasing number of iteration in Ant colony algorithm the distance cost fall down to range 45k-49k and swing up and down between this range all the obsearvation.\n",
    "- After 4 iterations when increasing number of iteration for Tabu search, the distance cost alway stable.\n",
    "- Time execution and increasing number of iterations and ants in Ant colony have linear relationship.\n",
    "- The relationship between number of iteration for Tabu search and time consuming is not stable which mean the number of iteration for Tabu search not directly consume computer resource if the model can find the best solution early or fall to some logics that contain break function."
   ]
  },
  {
   "cell_type": "code",
   "execution_count": null,
   "metadata": {},
   "outputs": [],
   "source": []
  }
 ],
 "metadata": {
  "kernelspec": {
   "display_name": "Python 3",
   "language": "python",
   "name": "python3"
  },
  "language_info": {
   "codemirror_mode": {
    "name": "ipython",
    "version": 3
   },
   "file_extension": ".py",
   "mimetype": "text/x-python",
   "name": "python",
   "nbconvert_exporter": "python",
   "pygments_lexer": "ipython3",
   "version": "3.7.6"
  }
 },
 "nbformat": 4,
 "nbformat_minor": 4
}
